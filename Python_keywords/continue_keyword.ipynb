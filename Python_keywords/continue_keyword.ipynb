{
 "cells": [
  {
   "cell_type": "markdown",
   "id": "94a72d14",
   "metadata": {},
   "source": [
    "# continue keyword\n",
    "\n",
    "In Python, the continue keyword is used inside loops (for or while) to skip the current iteration and immediately move to the next iteration of the loop. Unlike break (which exits the entire loop), continue only bypasses the remaining code in the current iteration.\n",
    "\n",
    "### Key Behavior of continue\n",
    "\n",
    "1. Skips the current iteration but keeps the loop running.\n",
    "2. No code below continue is executed for that iteration.\n",
    "3. Works in both for and while loops."
   ]
  },
  {
   "cell_type": "markdown",
   "id": "1b06eb70",
   "metadata": {},
   "source": [
    "## Examples"
   ]
  },
  {
   "cell_type": "markdown",
   "id": "f71896d7",
   "metadata": {},
   "source": [
    "1. Skipping Odd Numbers in a Loop  \n",
    "output:  \n",
    "    0  # Note: 1 is skipped  \n",
    "    2  # Note: 3 is skipped  \n",
    "    4"
   ]
  },
  {
   "cell_type": "code",
   "execution_count": 1,
   "id": "7ade0b1d",
   "metadata": {},
   "outputs": [
    {
     "name": "stdout",
     "output_type": "stream",
     "text": [
      "0\n",
      "2\n",
      "4\n"
     ]
    }
   ],
   "source": [
    "for num in range(5):\n",
    "    if num % 2 == 1:  # Skip odd numbers\n",
    "        continue\n",
    "    print(num)"
   ]
  },
  {
   "cell_type": "markdown",
   "id": "7c6f69a1",
   "metadata": {},
   "source": [
    "2. Ignoring Specific Values  \n",
    "    output:  \n",
    "        apple  \n",
    "        cherry  \n",
    "        date  "
   ]
  },
  {
   "cell_type": "code",
   "execution_count": 2,
   "id": "f1c63191",
   "metadata": {},
   "outputs": [
    {
     "name": "stdout",
     "output_type": "stream",
     "text": [
      "apple\n",
      "cherry\n",
      "date\n"
     ]
    }
   ],
   "source": [
    "fruits = [\"apple\", \"banana\", \"cherry\", \"date\"]\n",
    "for fruit in fruits:\n",
    "    if fruit == \"banana\":\n",
    "        continue  # Skip 'banana'\n",
    "    print(fruit)"
   ]
  },
  {
   "cell_type": "markdown",
   "id": "408c5a83",
   "metadata": {},
   "source": [
    "3. In a while Loop  \n",
    "    output:  \n",
    "        1  \n",
    "        2  # Note: 3 is skipped  \n",
    "        4  \n",
    "        5  "
   ]
  },
  {
   "cell_type": "code",
   "execution_count": 3,
   "id": "75535eeb",
   "metadata": {},
   "outputs": [
    {
     "name": "stdout",
     "output_type": "stream",
     "text": [
      "1\n",
      "2\n",
      "4\n",
      "5\n"
     ]
    }
   ],
   "source": [
    "count = 0\n",
    "while count < 5:\n",
    "    count += 1\n",
    "    if count == 3:\n",
    "        continue  # Skip iteration when count is 3\n",
    "    print(count)"
   ]
  },
  {
   "cell_type": "markdown",
   "id": "e0fd52fa",
   "metadata": {},
   "source": [
    "## Common Use Cases"
   ]
  },
  {
   "cell_type": "markdown",
   "id": "a3f4be4d",
   "metadata": {},
   "source": [
    "1. Filtering Data:  \n",
    "Skip unwanted values (e.g., zeros, invalid inputs).  "
   ]
  },
  {
   "cell_type": "code",
   "execution_count": 4,
   "id": "d502ee24",
   "metadata": {},
   "outputs": [
    {
     "name": "stdout",
     "output_type": "stream",
     "text": [
      "10.0\n",
      "5.0\n",
      "3.3333333333333335\n"
     ]
    }
   ],
   "source": [
    "numbers = [1, 0, 2, 0, 3]\n",
    "for num in numbers:\n",
    "    if num == 0:\n",
    "        continue\n",
    "    print(10 / num)  # Avoid division by zero"
   ]
  },
  {
   "cell_type": "markdown",
   "id": "b20ee8f0",
   "metadata": {},
   "source": [
    "2. Input Validation:  \n",
    "Skip processing invalid entries.  "
   ]
  },
  {
   "cell_type": "code",
   "execution_count": 7,
   "id": "993d1f96",
   "metadata": {},
   "outputs": [
    {
     "name": "stdout",
     "output_type": "stream",
     "text": [
      "Square: 1\n",
      "Invalid input!\n",
      "Square: 4\n",
      "Square: 9\n"
     ]
    }
   ],
   "source": [
    "while True:\n",
    "    user_input = input(\"Enter a positive number (or 'quit'): \")\n",
    "    if user_input == \"quit\":\n",
    "        break\n",
    "    if not user_input.isdigit():\n",
    "        print(\"Invalid input!\")\n",
    "        continue  # Skip to next iteration\n",
    "    print(f\"Square: {int(user_input) ** 2}\")"
   ]
  },
  {
   "cell_type": "markdown",
   "id": "9c17f8f8",
   "metadata": {},
   "source": [
    "## Difference Between continue and break  \n",
    "| Keyword\t |  Behavior |\n",
    "|:----:|:------:|\n",
    "| continue   |  Skips current iteration, moves to the next one. |\n",
    "| break\t     |  Exits the entire loop immediately. |  \n",
    "\n",
    "## Example:"
   ]
  },
  {
   "cell_type": "code",
   "execution_count": 6,
   "id": "1482894f",
   "metadata": {},
   "outputs": [
    {
     "name": "stdout",
     "output_type": "stream",
     "text": [
      "0\n",
      "1\n",
      "3\n"
     ]
    }
   ],
   "source": [
    "for i in range(5):\n",
    "    if i == 2:\n",
    "        continue  # Skips 2, continues loop\n",
    "    if i == 4:\n",
    "        break    # Exits loop at 4\n",
    "    print(i)"
   ]
  },
  {
   "cell_type": "markdown",
   "id": "e95c2fac",
   "metadata": {},
   "source": [
    "## Key Takeaways\n",
    "1. Use continue to skip specific iterations conditionally.  \n",
    "\n",
    "2. Avoid infinite loops in while loops (ensure progress toward exit condition).  \n",
    "\n",
    "3. Often paired with if to control flow.  "
   ]
  }
 ],
 "metadata": {
  "kernelspec": {
   "display_name": "Python 3",
   "language": "python",
   "name": "python3"
  },
  "language_info": {
   "codemirror_mode": {
    "name": "ipython",
    "version": 3
   },
   "file_extension": ".py",
   "mimetype": "text/x-python",
   "name": "python",
   "nbconvert_exporter": "python",
   "pygments_lexer": "ipython3",
   "version": "3.8.10"
  }
 },
 "nbformat": 4,
 "nbformat_minor": 5
}
