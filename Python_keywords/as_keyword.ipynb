{
 "cells": [
  {
   "cell_type": "markdown",
   "id": "03236ceb",
   "metadata": {},
   "source": [
    "# as keyword\n",
    "In Python, the as keyword is used for aliasing—giving a different name to an imported module, exception, or context manager. It helps in:\n",
    "\n",
    "1. Simplifying long module names (e.g., numpy as np).\n",
    "\n",
    "2. Handling exceptions with descriptive names.\n",
    "\n",
    "3. Working with context managers (like files) more cleanly.\n",
    "\n",
    "### Key Notes:\n",
    "1. as does not create a copy—it just provides an alternative reference.\n",
    "\n",
    "2. Works with import, except, and with statements."
   ]
  },
  {
   "cell_type": "markdown",
   "id": "9c261ffb",
   "metadata": {},
   "source": [
    "1. Importing Modules with as (Aliasing)\n",
    "Use as to assign a shorter/alternative name to a module."
   ]
  },
  {
   "cell_type": "code",
   "execution_count": 1,
   "id": "931b9c4a",
   "metadata": {},
   "outputs": [],
   "source": [
    "import numpy as np  # Now 'np' refers to numpy\n",
    "import pandas as pd # 'pd' refers to pandas\n",
    "\n",
    "arr = np.array([1, 2, 3])  # Instead of numpy.array(...)"
   ]
  },
  {
   "cell_type": "markdown",
   "id": "77e10bb4",
   "metadata": {},
   "source": [
    "2. Exception Handling with as\n",
    "Capture an exception object and assign it to a variable for debugging."
   ]
  },
  {
   "cell_type": "code",
   "execution_count": 2,
   "id": "8dc4e60c",
   "metadata": {},
   "outputs": [
    {
     "name": "stdout",
     "output_type": "stream",
     "text": [
      "Oops! division by zero\n"
     ]
    }
   ],
   "source": [
    "try:\n",
    "    x = 1 / 0\n",
    "except ZeroDivisionError as error:  # 'error' stores the exception details\n",
    "    print(f\"Oops! {error}\")  # Output: \"Oops! division by zero\""
   ]
  },
  {
   "cell_type": "markdown",
   "id": "113d360b",
   "metadata": {},
   "source": [
    "3. Context Managers (with statement)\n",
    "Use as to assign a resource (like a file object) to a variable within a with block."
   ]
  },
  {
   "cell_type": "code",
   "execution_count": 4,
   "id": "48edeba2",
   "metadata": {},
   "outputs": [],
   "source": [
    "with open(\"file.txt\", \"r\") as file:  # 'file' is the file object\n",
    "    content = file.read()\n",
    "# File automatically closes after the block"
   ]
  },
  {
   "cell_type": "markdown",
   "id": "58a53613",
   "metadata": {},
   "source": [
    "4. Type Hinting (Python 3.10+)\n",
    "In type hints, as can rename types (rarely used)."
   ]
  },
  {
   "cell_type": "code",
   "execution_count": 5,
   "id": "96a78df6",
   "metadata": {},
   "outputs": [],
   "source": [
    "from typing import Dict as Dictionary  # 'Dict' can now be called 'Dictionary'"
   ]
  }
 ],
 "metadata": {
  "kernelspec": {
   "display_name": "Python 3",
   "language": "python",
   "name": "python3"
  },
  "language_info": {
   "codemirror_mode": {
    "name": "ipython",
    "version": 3
   },
   "file_extension": ".py",
   "mimetype": "text/x-python",
   "name": "python",
   "nbconvert_exporter": "python",
   "pygments_lexer": "ipython3",
   "version": "3.8.10"
  }
 },
 "nbformat": 4,
 "nbformat_minor": 5
}
