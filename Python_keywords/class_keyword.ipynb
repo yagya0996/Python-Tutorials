{
 "cells": [
  {
   "cell_type": "markdown",
   "id": "c8bb77fd",
   "metadata": {},
   "source": [
    "# class keyword\n",
    "\n",
    "In Python, the class keyword is used to define a blueprint for creating objects (instances). A class encapsulates data (attributes) and behavior (methods) into a single logical unit. It’s the foundation of object-oriented programming (OOP) in Python.\n",
    "\n",
    "## Basic Syntax  \n",
    "\n",
    "class ClassName:  \n",
    "\n",
    "        #Class attributes (shared by all instances)\n",
    "        class_attribute = \"I'm a class attribute\"\n",
    "\n",
    "        #Constructor (initializes instance attributes)\n",
    "        def __init__(self, param1, param2):\n",
    "            self.instance_attr1 = param1  # Instance attribute\n",
    "            self.instance_attr2 = param2\n",
    "\n",
    "        #Method (function tied to the class)\n",
    "        def method(self):\n",
    "            return f\"Values: {self.instance_attr1}, {self.instance_attr2}\"  \n",
    "\n",
    "# Key Concepts\n",
    "\n",
    "1. \\_\\_init\\_\\_ (Constructor)\n",
    "\n",
    "    * Called automatically when an object is created.\n",
    "\n",
    "    * self refers to the instance being created.\n",
    "\n",
    "2. Instance Attributes\n",
    "\n",
    "    * Unique to each object (e.g., obj1.instance_attr1 ≠ obj2.instance_attr1).\n",
    "\n",
    "3. Class Attributes\n",
    "\n",
    "    * Shared across all instances (like static variables).\n",
    "\n",
    "4. Methods\n",
    "\n",
    "    * Functions defined inside the class, with self as the first parameter.\n",
    "\n",
    "### When to Use Classes?  \n",
    "\n",
    "1. Model real-world entities (e.g., User, Product).\n",
    "\n",
    "2. Group related data + functionality.\n",
    "\n",
    "3. Reuse code via inheritance.\n",
    "\n",
    "### Key Takeaways\n",
    "Classes are templates for objects.\n",
    "\n",
    "1. \\_\\_init\\_\\_ initializes instance attributes.\n",
    "\n",
    "2. self refers to the current instance.\n",
    "\n",
    "3. Supports inheritance, polymorphism, and encapsulation.\n",
    "\n",
    "\n",
    "\n",
    "\n"
   ]
  },
  {
   "cell_type": "markdown",
   "id": "7f39d176",
   "metadata": {},
   "source": [
    "1. Example: Creating a Class"
   ]
  },
  {
   "cell_type": "code",
   "execution_count": 1,
   "id": "48821806",
   "metadata": {},
   "outputs": [
    {
     "name": "stdout",
     "output_type": "stream",
     "text": [
      "Buddy says woof!\n",
      "Canis familiaris\n"
     ]
    }
   ],
   "source": [
    "class Dog:\n",
    "    # Class attribute\n",
    "    species = \"Canis familiaris\"\n",
    "\n",
    "    # Constructor\n",
    "    def __init__(self, name, age):\n",
    "        self.name = name  # Instance attribute\n",
    "        self.age = age\n",
    "\n",
    "    # Method\n",
    "    def bark(self):\n",
    "        return f\"{self.name} says woof!\"\n",
    "\n",
    "# Create objects (instances)\n",
    "dog1 = Dog(\"Buddy\", 3)\n",
    "dog2 = Dog(\"Milo\", 5)\n",
    "\n",
    "print(dog1.bark())  # Output: \"Buddy says woof!\"\n",
    "print(dog2.species) # Output: \"Canis familiaris\""
   ]
  },
  {
   "cell_type": "markdown",
   "id": "eb69031a",
   "metadata": {},
   "source": [
    "2. Inheritance (Extending Classes)  \n",
    "Use class ChildClass(ParentClass) to inherit attributes/methods:"
   ]
  },
  {
   "cell_type": "code",
   "execution_count": 2,
   "id": "deaf6e25",
   "metadata": {},
   "outputs": [
    {
     "name": "stdout",
     "output_type": "stream",
     "text": [
      "Spike says woof!\n",
      "Spike runs slowly!\n"
     ]
    }
   ],
   "source": [
    "class Bulldog(Dog):  # Inherits from Dog\n",
    "    def run(self):\n",
    "        return f\"{self.name} runs slowly!\"\n",
    "\n",
    "bulldog = Bulldog(\"Spike\", 4)\n",
    "print(bulldog.bark())  # Inherited method\n",
    "print(bulldog.run())   # New method"
   ]
  },
  {
   "cell_type": "markdown",
   "id": "58ff3be7",
   "metadata": {},
   "source": [
    "Special Methods (Dunder Methods)  \n",
    "Define behavior for built-in operations:"
   ]
  },
  {
   "cell_type": "code",
   "execution_count": 1,
   "id": "8f4c781a",
   "metadata": {},
   "outputs": [
    {
     "name": "stdout",
     "output_type": "stream",
     "text": [
      "Vector v3: (4, 6)\n",
      "Vector(4, 6)\n",
      "Vector(4, 6)\n"
     ]
    }
   ],
   "source": [
    "class Vector:\n",
    "    def __init__(self, x, y):\n",
    "        self.x = x\n",
    "        self.y = y\n",
    "\n",
    "    # Overloads '+' operator\n",
    "    def __add__(self, other):\n",
    "        return Vector(self.x + other.x, self.y + other.y)\n",
    "\n",
    "\n",
    "    # Overloading the 'str' method for better representation\n",
    "    def __str__(self):\n",
    "        return f\"Vector({self.x}, {self.y})\"\n",
    "\n",
    "    # Overloading the 'repr' method for unambiguous representation\n",
    "    def __repr__(self):\n",
    "        return f\"Vector({self.x}, {self.y})\"\n",
    "\n",
    "\n",
    "v1 = Vector(1, 2)\n",
    "v2 = Vector(3, 4)\n",
    "v3 = v1 + v2  # Uses __add__\n",
    "print(f\"Vector v3: ({v3.x}, {v3.y})\")  # Output: \"Vector v3: (4, 6)\"\n",
    "print(str(v3))  # Output: \"Vector(4, 6)\"\n",
    "print(repr(v3))  # Output: \"Vector(4, 6)\""
   ]
  }
 ],
 "metadata": {
  "kernelspec": {
   "display_name": "Python 3",
   "language": "python",
   "name": "python3"
  },
  "language_info": {
   "codemirror_mode": {
    "name": "ipython",
    "version": 3
   },
   "file_extension": ".py",
   "mimetype": "text/x-python",
   "name": "python",
   "nbconvert_exporter": "python",
   "pygments_lexer": "ipython3",
   "version": "3.8.10"
  }
 },
 "nbformat": 4,
 "nbformat_minor": 5
}
