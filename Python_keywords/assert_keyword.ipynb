{
 "cells": [
  {
   "cell_type": "markdown",
   "id": "65241567",
   "metadata": {},
   "source": [
    "# assert keyword\n",
    "\n",
    "In Python, the assert keyword is used as a debugging tool to test if a given condition is True. If the condition is False, Python raises an AssertionError with an optional error message.\n",
    "\n",
    "Syntax:\n",
    "assert condition, \"Optional error message\"\n",
    "\n",
    "* If condition is True, the program continues normally.\n",
    "\n",
    "* If condition is False, Python raises AssertionError (stops execution if not handled).\n",
    "\n",
    "### Purpose of assert\n",
    "\n",
    "1. Debugging: Helps catch logical errors during development.\n",
    "\n",
    "2. Input Validation: Ensures function arguments meet certain conditions.\n",
    "\n",
    "3. Documentation: Makes assumptions in code explicit.\n",
    "\n",
    "### Key Notes\n",
    "\n",
    "1. Not for Production Error Handling: Use try-except for user-facing errors.\n",
    "\n",
    "2. Can Be Disabled: Assertions are skipped if Python runs in optimized mode (python -O).\n",
    "\n",
    "3. Avoid Side Effects: Since assertions may be disabled, never use them for critical checks (e.g., file operations).\n",
    "\n",
    "### When to Use assert?\n",
    "✔ Debugging (\"This should never happen\" checks).  \n",
    "\n",
    "✔ Development Tests (Preconditions, postconditions).  \n",
    "\n",
    "❌ User Input Validation (Use if-else + exceptions instead).  \n",
    "\n"
   ]
  },
  {
   "cell_type": "markdown",
   "id": "3186deea",
   "metadata": {},
   "source": [
    "1. Basic Assertion"
   ]
  },
  {
   "cell_type": "code",
   "execution_count": 1,
   "id": "8bb792dd",
   "metadata": {},
   "outputs": [
    {
     "ename": "AssertionError",
     "evalue": "",
     "output_type": "error",
     "traceback": [
      "\u001b[0;31m---------------------------------------------------------------------------\u001b[0m",
      "\u001b[0;31mAssertionError\u001b[0m                            Traceback (most recent call last)",
      "Cell \u001b[0;32mIn[1], line 3\u001b[0m\n\u001b[1;32m      1\u001b[0m x \u001b[38;5;241m=\u001b[39m \u001b[38;5;241m5\u001b[39m\n\u001b[1;32m      2\u001b[0m \u001b[38;5;28;01massert\u001b[39;00m x \u001b[38;5;241m==\u001b[39m \u001b[38;5;241m5\u001b[39m  \u001b[38;5;66;03m# ✅ Passes (no error)\u001b[39;00m\n\u001b[0;32m----> 3\u001b[0m \u001b[38;5;28;01massert\u001b[39;00m x \u001b[38;5;241m==\u001b[39m \u001b[38;5;241m10\u001b[39m  \u001b[38;5;66;03m# ❌ Raises `AssertionError`\u001b[39;00m\n",
      "\u001b[0;31mAssertionError\u001b[0m: "
     ]
    }
   ],
   "source": [
    "x = 5\n",
    "assert x == 5  # ✅ Passes (no error)\n",
    "assert x == 10  # ❌ Raises `AssertionError`"
   ]
  },
  {
   "cell_type": "markdown",
   "id": "73cf200d",
   "metadata": {},
   "source": [
    "2. Assert with Custom Error Message"
   ]
  },
  {
   "cell_type": "code",
   "execution_count": 2,
   "id": "0ea8dcfc",
   "metadata": {},
   "outputs": [
    {
     "ename": "AssertionError",
     "evalue": "Age must be 18+ to vote",
     "output_type": "error",
     "traceback": [
      "\u001b[0;31m---------------------------------------------------------------------------\u001b[0m",
      "\u001b[0;31mAssertionError\u001b[0m                            Traceback (most recent call last)",
      "Cell \u001b[0;32mIn[2], line 2\u001b[0m\n\u001b[1;32m      1\u001b[0m age \u001b[38;5;241m=\u001b[39m \u001b[38;5;241m15\u001b[39m\n\u001b[0;32m----> 2\u001b[0m \u001b[38;5;28;01massert\u001b[39;00m age \u001b[38;5;241m>\u001b[39m\u001b[38;5;241m=\u001b[39m \u001b[38;5;241m18\u001b[39m, \u001b[38;5;124m\"\u001b[39m\u001b[38;5;124mAge must be 18+ to vote\u001b[39m\u001b[38;5;124m\"\u001b[39m\n",
      "\u001b[0;31mAssertionError\u001b[0m: Age must be 18+ to vote"
     ]
    }
   ],
   "source": [
    "age = 15\n",
    "assert age >= 18, \"Age must be 18+ to vote\""
   ]
  },
  {
   "cell_type": "markdown",
   "id": "7bf1c2fd",
   "metadata": {},
   "source": [
    "3. Validating Function Inputs"
   ]
  },
  {
   "cell_type": "code",
   "execution_count": 3,
   "id": "595080b2",
   "metadata": {},
   "outputs": [
    {
     "name": "stdout",
     "output_type": "stream",
     "text": [
      "5.0\n"
     ]
    },
    {
     "ename": "AssertionError",
     "evalue": "Cannot divide by zero!",
     "output_type": "error",
     "traceback": [
      "\u001b[0;31m---------------------------------------------------------------------------\u001b[0m",
      "\u001b[0;31mAssertionError\u001b[0m                            Traceback (most recent call last)",
      "Cell \u001b[0;32mIn[3], line 6\u001b[0m\n\u001b[1;32m      3\u001b[0m     \u001b[38;5;28;01mreturn\u001b[39;00m a \u001b[38;5;241m/\u001b[39m b\n\u001b[1;32m      5\u001b[0m \u001b[38;5;28mprint\u001b[39m(divide(\u001b[38;5;241m10\u001b[39m, \u001b[38;5;241m2\u001b[39m))  \u001b[38;5;66;03m# ✅ Works (returns 5.0)\u001b[39;00m\n\u001b[0;32m----> 6\u001b[0m \u001b[38;5;28mprint\u001b[39m(\u001b[43mdivide\u001b[49m\u001b[43m(\u001b[49m\u001b[38;5;241;43m10\u001b[39;49m\u001b[43m,\u001b[49m\u001b[43m \u001b[49m\u001b[38;5;241;43m0\u001b[39;49m\u001b[43m)\u001b[49m)  \u001b[38;5;66;03m# ❌ Raises `AssertionError`\u001b[39;00m\n",
      "Cell \u001b[0;32mIn[3], line 2\u001b[0m, in \u001b[0;36mdivide\u001b[0;34m(a, b)\u001b[0m\n\u001b[1;32m      1\u001b[0m \u001b[38;5;28;01mdef\u001b[39;00m \u001b[38;5;21mdivide\u001b[39m(a, b):\n\u001b[0;32m----> 2\u001b[0m     \u001b[38;5;28;01massert\u001b[39;00m b \u001b[38;5;241m!=\u001b[39m \u001b[38;5;241m0\u001b[39m, \u001b[38;5;124m\"\u001b[39m\u001b[38;5;124mCannot divide by zero!\u001b[39m\u001b[38;5;124m\"\u001b[39m\n\u001b[1;32m      3\u001b[0m     \u001b[38;5;28;01mreturn\u001b[39;00m a \u001b[38;5;241m/\u001b[39m b\n",
      "\u001b[0;31mAssertionError\u001b[0m: Cannot divide by zero!"
     ]
    }
   ],
   "source": [
    "def divide(a, b):\n",
    "    assert b != 0, \"Cannot divide by zero!\"\n",
    "    return a / b\n",
    "\n",
    "print(divide(10, 2))  # ✅ Works (returns 5.0)\n",
    "print(divide(10, 0))  # ❌ Raises `AssertionError`"
   ]
  },
  {
   "cell_type": "code",
   "execution_count": null,
   "id": "bb77b94b",
   "metadata": {},
   "outputs": [],
   "source": []
  }
 ],
 "metadata": {
  "kernelspec": {
   "display_name": "Python 3",
   "language": "python",
   "name": "python3"
  },
  "language_info": {
   "codemirror_mode": {
    "name": "ipython",
    "version": 3
   },
   "file_extension": ".py",
   "mimetype": "text/x-python",
   "name": "python",
   "nbconvert_exporter": "python",
   "pygments_lexer": "ipython3",
   "version": "3.8.10"
  }
 },
 "nbformat": 4,
 "nbformat_minor": 5
}
