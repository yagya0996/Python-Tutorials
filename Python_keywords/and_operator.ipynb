{
 "cells": [
  {
   "cell_type": "markdown",
   "id": "e217124d",
   "metadata": {},
   "source": [
    "# \"and\" keyword\n",
    "In Python, the and keyword is a logical operator used to combine conditional statements. It returns True if both operands (conditions) are True, otherwise, it returns False.\n",
    "\n",
    "How and Works:\n",
    "1. x and y → Returns True only if both x and y are True.\n",
    "\n",
    "2. If x is False, Python doesn’t check y (short-circuiting).\n",
    "\n",
    "3. If x is True, Python evaluates y and returns its value.\n",
    "\n",
    "* Truth Table for and:\n",
    "\n",
    "    x\t  |   y\t    |  x and y\n",
    "    |:----:|:------:|:--------:|\n",
    "    |True  | True\t|    True  |\n",
    "    |True  | False\t|   False  |\n",
    "    |False | True\t|   False  |\n",
    "    |False |False\t|   False  |\n",
    "\n",
    "\n",
    "### Key Takeaways:\n",
    "\n",
    "1. and is used for logical conjunction.\n",
    "\n",
    "2. It follows short-circuit evaluation (stops if the first condition is False).\n",
    "\n",
    "3. Works with both boolean (True/False) and non-boolean values (returns the last evaluated operand)."
   ]
  },
  {
   "cell_type": "markdown",
   "id": "f6bb68d4",
   "metadata": {},
   "source": [
    "## 1. Basic Boolean Check"
   ]
  },
  {
   "cell_type": "code",
   "execution_count": 1,
   "id": "7210e4f8",
   "metadata": {},
   "outputs": [
    {
     "name": "stdout",
     "output_type": "stream",
     "text": [
      "False\n"
     ]
    }
   ],
   "source": [
    "a = True\n",
    "b = False\n",
    "print(a and b)  # Output: False (since b is False);"
   ]
  },
  {
   "cell_type": "markdown",
   "id": "b236633e",
   "metadata": {},
   "source": [
    "# 2. In Conditional Statements"
   ]
  },
  {
   "cell_type": "code",
   "execution_count": 2,
   "id": "59e692bc",
   "metadata": {},
   "outputs": [
    {
     "name": "stdout",
     "output_type": "stream",
     "text": [
      "You can drive!\n"
     ]
    }
   ],
   "source": [
    "age = 25\n",
    "has_license = True\n",
    "\n",
    "if age >= 18 and has_license:\n",
    "    print(\"You can drive!\")\n",
    "else:\n",
    "    print(\"You cannot drive.\")\n",
    "# Output: \"You can drive!\""
   ]
  },
  {
   "cell_type": "markdown",
   "id": "d4737a3a",
   "metadata": {},
   "source": [
    "# 3. Short-Circuiting Behavior"
   ]
  },
  {
   "cell_type": "code",
   "execution_count": 3,
   "id": "21f082e2",
   "metadata": {},
   "outputs": [
    {
     "name": "stdout",
     "output_type": "stream",
     "text": [
      "False\n"
     ]
    }
   ],
   "source": [
    "x = False\n",
    "y = True  # This won't be checked\n",
    "print(x and y)  # Output: False"
   ]
  },
  {
   "cell_type": "markdown",
   "id": "9b82da9d",
   "metadata": {},
   "source": [
    "# 4. Non-Boolean Values (Truthy/Falsy Evaluation)"
   ]
  },
  {
   "cell_type": "code",
   "execution_count": 4,
   "id": "37334655",
   "metadata": {},
   "outputs": [
    {
     "name": "stdout",
     "output_type": "stream",
     "text": [
      "5\n",
      "0\n",
      "\n"
     ]
    }
   ],
   "source": [
    "print(3 and 5)   # Output: 5 (since both are truthy)\n",
    "print(0 and 10)  # Output: 0 (0 is falsy, short-circuits)\n",
    "print(\"Hello\" and \"\")  # Output: \"\" (empty string is falsy)"
   ]
  },
  {
   "cell_type": "code",
   "execution_count": null,
   "id": "1d6b41bf",
   "metadata": {},
   "outputs": [],
   "source": []
  }
 ],
 "metadata": {
  "kernelspec": {
   "display_name": "Python 3",
   "language": "python",
   "name": "python3"
  },
  "language_info": {
   "codemirror_mode": {
    "name": "ipython",
    "version": 3
   },
   "file_extension": ".py",
   "mimetype": "text/x-python",
   "name": "python",
   "nbconvert_exporter": "python",
   "pygments_lexer": "ipython3",
   "version": "3.8.10"
  }
 },
 "nbformat": 4,
 "nbformat_minor": 5
}
